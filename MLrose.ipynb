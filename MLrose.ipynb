{
 "cells": [
  {
   "cell_type": "code",
   "execution_count": 1,
   "id": "a5c4396e",
   "metadata": {},
   "outputs": [],
   "source": [
    "\n",
    "# pip install mlrose in python - if using environments in jupyter you need to make sure \n",
    "# it is in your environment \n",
    "import six\n",
    "import sys\n",
    "sys.modules['sklearn.externals.six'] = six\n",
    "import mlrose\n",
    "import numpy as np\n",
    "import matplotlib.pyplot as plt"
   ]
  },
  {
   "cell_type": "code",
   "execution_count": 2,
   "id": "6e9d2f78",
   "metadata": {},
   "outputs": [],
   "source": [
    "# Create list of city coordinates\n",
    "coords_list = [(1, 1), (4, 2), (5, 2), (6, 4), (4, 4), (3, 6), (1, 5), (2, 3)]\n",
    "\n",
    "# Initialize fitness function object using coords_list\n",
    "fitness_coords = mlrose.TravellingSales(coords = coords_list)\n",
    "\n",
    "# Make a pretty plot of any route: where state is a list of cities ordered by visit  \n",
    "def plot_route(coords_list, state):\n",
    "    print(state)\n",
    "    x = [coords_list[city][0] for city in state]\n",
    "    y = [coords_list[city][1] for city in state]\n",
    "\n",
    "    plt.figure(figsize=(6, 6))\n",
    "    plt.plot(x, y, 'bo')\n",
    "    plt.plot(x + [x[0]], y + [y[0]], 'r-')\n",
    "    plt.xlabel('X')\n",
    "    plt.ylabel('Y')\n",
    "    plt.title('Traveling Salesman Problem')\n",
    "    plt.show()"
   ]
  },
  {
   "cell_type": "code",
   "execution_count": 3,
   "id": "db7e22e5",
   "metadata": {},
   "outputs": [],
   "source": [
    "# Define problem for the mlrose.genetic_alg routine\n",
    "problem_fit = mlrose.TSPOpt(length = 8, fitness_fn = fitness_coords,\n",
    "                            maximize=False)"
   ]
  },
  {
   "cell_type": "code",
   "execution_count": 4,
   "id": "aec218ea",
   "metadata": {},
   "outputs": [
    {
     "name": "stdout",
     "output_type": "stream",
     "text": [
      "The best state found is:  [7 6 5 4 3 2 1 0]\n",
      "The fitness at the best state is:  17.34261754766733\n",
      "[7 6 5 4 3 2 1 0]\n"
     ]
    },
    {
     "data": {
      "image/png": "[encoded data removed]",
      "text/plain": [
       "<Figure size 432x432 with 1 Axes>"
      ]
     },
     "metadata": {
      "needs_background": "light"
     },
     "output_type": "display_data"
    }
   ],
   "source": [
    "# Now solve TSPproblem using the genetic algorithm\n",
    "best_state, best_fitness = mlrose.genetic_alg(problem_fit, mutation_prob = 0.2,\n",
    "                                              max_attempts = 100, random_state = 2)\n",
    "\n",
    "print('The best state found is: ', best_state)\n",
    "print('The fitness at the best state is: ', best_fitness)\n",
    "\n",
    "plot_route(coords_list,best_state)"
   ]
  },
  {
   "cell_type": "code",
   "execution_count": null,
   "id": "0cab7e87",
   "metadata": {},
   "outputs": [],
   "source": []
  }
 ],
 "metadata": {
  "kernelspec": {
   "display_name": "Python 3",
   "language": "python",
   "name": "python3"
  },
  "language_info": {
   "codemirror_mode": {
    "name": "ipython",
    "version": 3
   },
   "file_extension": ".py",
   "mimetype": "text/x-python",
   "name": "python",
   "nbconvert_exporter": "python",
   "pygments_lexer": "ipython3",
   "version": "3.9.2"
  }
 },
 "nbformat": 4,
 "nbformat_minor": 5
}
